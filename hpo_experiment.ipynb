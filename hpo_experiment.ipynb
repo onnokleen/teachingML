{
 "cells": [
  {
   "cell_type": "markdown",
   "id": "789afe26",
   "metadata": {},
   "source": [
    "### Quick note before starting the experiment\n",
    "\n",
    "In this experiment, crude oil prices are predicted using Random Forest, though it is generally unsuitable for trending data due to its prediction mechanism. Here, since both max and min prices appear in the training set, the Random Forest is used for HPO demonstration purposes."
   ]
  },
  {
   "cell_type": "markdown",
   "id": "fc8fb2ad",
   "metadata": {},
   "source": [
    "# Data Setup"
   ]
  },
  {
   "cell_type": "code",
   "execution_count": 1,
   "id": "f8f0bef7",
   "metadata": {},
   "outputs": [
    {
     "name": "stderr",
     "output_type": "stream",
     "text": [
      "c:\\Users\\armin\\Projects\\teachingML\\teachingML\\.venv\\Lib\\site-packages\\tqdm\\auto.py:21: TqdmWarning: IProgress not found. Please update jupyter and ipywidgets. See https://ipywidgets.readthedocs.io/en/stable/user_install.html\n",
      "  from .autonotebook import tqdm as notebook_tqdm\n"
     ]
    }
   ],
   "source": [
    "import pandas as pd\n",
    "import numpy as np\n",
    "from sklearn.ensemble import RandomForestRegressor\n",
    "import sklearn.model_selection\n",
    "import sklearn.metrics\n",
    "import time\n",
    "from itertools import product\n",
    "import random\n",
    "import optuna\n",
    "from IPython.core.display import Markdown\n",
    "import pprint\n",
    "import matplotlib.pyplot as plt\n",
    "\n",
    "optuna.logging.set_verbosity(optuna.logging.WARNING)\n",
    "# Set verbosity to optuna.logging.INFO to see the optimisation details while running Optuna"
   ]
  },
  {
   "cell_type": "code",
   "execution_count": null,
   "id": "b6dcc192",
   "metadata": {},
   "outputs": [],
   "source": [
    "path_to_file = \"2025-06-MD.csv\"\n",
    "\n",
    "data = pd.read_csv(path_to_file)\n",
    "data = data.iloc[1:, :] # Remove the Transform row (irrelevant)\n",
    "data = data.drop(columns=[\"sasdate\"]) # Remove dates (irrelevant)"
   ]
  },
  {
   "cell_type": "code",
   "execution_count": 3,
   "id": "78206ad9",
   "metadata": {},
   "outputs": [
    {
     "name": "stdout",
     "output_type": "stream",
     "text": [
      "data shape before cleaning: rows = 797, columns = 126\n",
      "----------------------------------------------------------------------------------------------------\n",
      "Number of NaN per column:\n",
      "CMRMTSPLx          1\n",
      "HWI                1\n",
      "HWIURATIO          1\n",
      "PERMIT            12\n",
      "PERMITNE          12\n",
      "PERMITMW          12\n",
      "PERMITS           12\n",
      "PERMITW           12\n",
      "ACOGNO           398\n",
      "ANDENOx          109\n",
      "BUSINVx            1\n",
      "ISRATIOx           1\n",
      "NONREVSL           1\n",
      "CONSPI             1\n",
      "S&P div yield      2\n",
      "S&P PE ratio       1\n",
      "CP3Mx              1\n",
      "COMPAPFFx          1\n",
      "TWEXAFEGSMTHx    168\n",
      "UMCSENTx         154\n",
      "DTCOLNVHFNM        1\n",
      "DTCTHFNM           1\n",
      "VIXCLSx           42\n",
      "dtype: int64\n",
      "----------------------------------------------------------------------------------------------------\n",
      "13      2.97\n",
      "14      2.97\n",
      "15      2.97\n",
      "16      2.97\n",
      "17      2.97\n",
      "       ...  \n",
      "790    69.95\n",
      "791    70.12\n",
      "792    75.74\n",
      "793    71.53\n",
      "794    68.24\n",
      "Name: label, Length: 782, dtype: float64\n",
      "13      2.97\n",
      "14      2.97\n",
      "15      2.97\n",
      "16      2.97\n",
      "17      2.97\n",
      "       ...  \n",
      "790    71.99\n",
      "791    69.95\n",
      "792    70.12\n",
      "793    75.74\n",
      "794    71.53\n",
      "Name: OILPRICEx, Length: 782, dtype: float64\n",
      "data shape after cleaning and setup: rows = 782, columns = 120\n"
     ]
    }
   ],
   "source": [
    "print(f\"data shape before cleaning: rows = {data.shape[0]}, columns = {data.shape[1]}\")\n",
    "print(\"-\" * 100)\n",
    "\n",
    "nan_per_col = data.isna().sum()\n",
    "nan_per_col = nan_per_col[nan_per_col > 0]\n",
    "\n",
    "print(f\"Number of NaN per column:\\n{nan_per_col}\")\n",
    "print(\"-\" * 100)\n",
    "\n",
    "# Trim the dataset to reduce the number of cols with NaNs\n",
    "# Note: would be better to keep them and fill the missing values.\n",
    "# For demonstration of hyperparameter optimisation, though, it is sufficient\n",
    "data = data.iloc[12:-2, :]\n",
    "nan_per_col = data.isna().sum()\n",
    "nan_per_col = nan_per_col[nan_per_col > 0]\n",
    "\n",
    "data = data.drop(columns=nan_per_col.index)\n",
    "\n",
    "# Create label (target)\n",
    "data[\"label\"] = -1.0\n",
    "data.iloc[:-1, -1] = data[\"OILPRICEx\"][1:]\n",
    "data = data.iloc[:-1]\n",
    "\n",
    "print(data[\"label\"])\n",
    "print(data[\"OILPRICEx\"])\n",
    "\n",
    "print(f\"data shape after cleaning and setup: rows = {data.shape[0]}, columns = {data.shape[1]}\")"
   ]
  },
  {
   "cell_type": "code",
   "execution_count": 4,
   "id": "569ac998",
   "metadata": {},
   "outputs": [
    {
     "name": "stdout",
     "output_type": "stream",
     "text": [
      "Train size: 500, Validation size: 125, Test size: 157\n"
     ]
    }
   ],
   "source": [
    "trainval_idx, test_idx = sklearn.model_selection.train_test_split(np.arange(len(data)), train_size=0.8, shuffle=False)\n",
    "train_idx, val_idx = sklearn.model_selection.train_test_split(trainval_idx, train_size=0.8, shuffle=False)\n",
    "\n",
    "X, y = data.drop(columns=[\"label\"]), data[\"label\"]\n",
    "\n",
    "X_trainval, y_trainval = X.iloc[trainval_idx], y.iloc[trainval_idx]\n",
    "X_train, y_train = X.iloc[train_idx], y.iloc[train_idx]\n",
    "X_val, y_val = X.iloc[val_idx], y.iloc[val_idx]\n",
    "X_test, y_test = X.iloc[test_idx], y.iloc[test_idx]\n",
    "\n",
    "print(f\"Train size: {len(y_train)}, Validation size: {len(y_val)}, Test size: {len(y_test)}\")"
   ]
  },
  {
   "cell_type": "markdown",
   "id": "efd08d8b",
   "metadata": {},
   "source": [
    "# Overview\n",
    "\n",
    "Try to see how well Random Forest with different hyperparameter configurations predicts `OILPRICEx`"
   ]
  },
  {
   "cell_type": "code",
   "execution_count": 5,
   "id": "645bbff3",
   "metadata": {},
   "outputs": [],
   "source": [
    "# A helper function for Overview section\n",
    "def setup_and_fit_model(params: dict):\n",
    "    model = RandomForestRegressor(**params)\n",
    "    model.fit(X_trainval, y_trainval)\n",
    "\n",
    "    return sklearn.metrics.root_mean_squared_error(model.predict(X_test), y_test)"
   ]
  },
  {
   "cell_type": "code",
   "execution_count": 6,
   "id": "b84e07e3",
   "metadata": {},
   "outputs": [],
   "source": [
    "# A very shallow model\n",
    "rmse_very_shallow = setup_and_fit_model(\n",
    "    {\n",
    "        \"n_estimators\": 20,\n",
    "        \"max_features\": \"log2\",\n",
    "        \"max_depth\": 3,\n",
    "        \"max_leaf_nodes\": 4,\n",
    "        \"max_samples\": 0.5,\n",
    "        \"random_state\": 4,\n",
    "    }\n",
    ")\n",
    "\n",
    "# A shallow model\n",
    "rmse_shallow = setup_and_fit_model(\n",
    "    {\n",
    "        \"n_estimators\": 50,\n",
    "        \"max_features\": \"log2\",\n",
    "        \"max_depth\": 6,\n",
    "        \"max_leaf_nodes\": 8,\n",
    "        \"max_samples\": 0.7,\n",
    "        \"random_state\": 4,\n",
    "    }\n",
    ")\n",
    "\n",
    "\n",
    "# Average\n",
    "rmse_average = setup_and_fit_model(\n",
    "    {\n",
    "        \"n_estimators\": 100,\n",
    "        \"max_features\": \"sqrt\",\n",
    "        \"max_depth\": 12,\n",
    "        \"max_leaf_nodes\": 12,\n",
    "        \"max_samples\": 0.8,\n",
    "        \"random_state\": 4,\n",
    "    }\n",
    ")\n",
    "\n",
    "# A light complex model\n",
    "rmse_light_complex = setup_and_fit_model(\n",
    "    {\n",
    "        \"n_estimators\": 300,\n",
    "        \"max_features\": \"sqrt\",\n",
    "        \"max_depth\": None,\n",
    "        \"max_leaf_nodes\": None,\n",
    "        \"max_samples\": 0.8,\n",
    "        \"random_state\": 4,\n",
    "    }\n",
    ")\n",
    "\n",
    "# A complex model\n",
    "rmse_complex = setup_and_fit_model(\n",
    "    {\n",
    "        \"n_estimators\": 500,\n",
    "        \"max_features\": 0.5,\n",
    "        \"max_depth\": None,\n",
    "        \"max_leaf_nodes\": None,\n",
    "        \"max_samples\": 0.8,\n",
    "        \"random_state\": 4,\n",
    "    }\n",
    ")\n",
    "\n",
    "# A more complex model\n",
    "rmse_more_complex = setup_and_fit_model(\n",
    "    {\n",
    "        \"n_estimators\": 800,\n",
    "        \"max_features\": None,\n",
    "        \"max_depth\": None,\n",
    "        \"max_leaf_nodes\": None,\n",
    "        \"max_samples\": None,\n",
    "        \"random_state\": 4,\n",
    "    }\n",
    ")\n",
    "\n",
    "# A very complex model\n",
    "rmse_very_complex = setup_and_fit_model(\n",
    "    {\n",
    "        \"n_estimators\": 1200,\n",
    "        \"max_features\": None,\n",
    "        \"max_depth\": None,\n",
    "        \"max_leaf_nodes\": None,\n",
    "        \"max_samples\": None,\n",
    "        \"random_state\": 4,\n",
    "    }\n",
    ")\n"
   ]
  },
  {
   "cell_type": "code",
   "execution_count": 7,
   "id": "0dfac57c",
   "metadata": {},
   "outputs": [
    {
     "name": "stdout",
     "output_type": "stream",
     "text": [
      "Very shallow model RMSE: 24.419\n",
      "Shallow model RMSE: 30.580\n",
      "Average model RMSE: 27.676\n",
      "Light complex model RMSE: 30.059\n",
      "Complex model RMSE: 18.438\n",
      "More complex model RMSE: 14.112\n",
      "Very complex model RMSE: 14.202\n"
     ]
    }
   ],
   "source": [
    "print(f\"Very shallow model RMSE: {rmse_very_shallow:.3f}\")\n",
    "print(f\"Shallow model RMSE: {rmse_shallow:.3f}\")\n",
    "print(f\"Average model RMSE: {rmse_average:.3f}\")\n",
    "print(f\"Light complex model RMSE: {rmse_light_complex:.3f}\")\n",
    "print(f\"Complex model RMSE: {rmse_complex:.3f}\")\n",
    "print(f\"More complex model RMSE: {rmse_more_complex:.3f}\")\n",
    "print(f\"Very complex model RMSE: {rmse_very_complex:.3f}\")"
   ]
  },
  {
   "cell_type": "code",
   "execution_count": 8,
   "id": "7a116710",
   "metadata": {},
   "outputs": [
    {
     "data": {
      "image/png": "[encoded data removed]",
      "text/plain": [
       "<Figure size 1200x500 with 1 Axes>"
      ]
     },
     "metadata": {},
     "output_type": "display_data"
    }
   ],
   "source": [
    "models = [\"very shallow\", \"shallow\", \"average\", \"light complex\", \"complex\", \"more complex\", \"very complex\"]\n",
    "rmse_values = [rmse_very_shallow, rmse_shallow, rmse_average, rmse_light_complex, rmse_complex, rmse_more_complex, rmse_very_complex]\n",
    "\n",
    "plt.figure(figsize=(12, 5))\n",
    "plt.plot(models, rmse_values, marker=\"o\", color=\"blue\", markersize=10, linestyle=\"None\")\n",
    "plt.ylabel(\"RMSE\")\n",
    "plt.xlabel(\"Model Complexity\")\n",
    "plt.title(\"RMSE by Model Complexity\")\n",
    "plt.ylim(min(rmse_values)*0.95, max(rmse_values)*1.05)\n",
    "plt.grid(axis='y', linestyle='--', alpha=0.5)\n",
    "plt.show()"
   ]
  },
  {
   "cell_type": "markdown",
   "id": "8df4acf2",
   "metadata": {},
   "source": [
    "# Hyperparameter Optimisation"
   ]
  },
  {
   "cell_type": "code",
   "execution_count": 9,
   "id": "d0dfd91a",
   "metadata": {},
   "outputs": [],
   "source": [
    "# Start the timer\n",
    "hpo_start_time = time.perf_counter()"
   ]
  },
  {
   "cell_type": "code",
   "execution_count": 10,
   "id": "8175528e",
   "metadata": {},
   "outputs": [],
   "source": [
    "# Some helper functions\n",
    "\n",
    "def fit_model_and_update_best(params: dict, best_params: dict) -> None:\n",
    "    params.update({\"random_state\": 0})\n",
    "    model = RandomForestRegressor(**params)\n",
    "    model.fit(X_train, y_train)\n",
    "\n",
    "    rmse = sklearn.metrics.root_mean_squared_error(y_val, model.predict(X_val))\n",
    "\n",
    "    if rmse < best_params[\"rmse\"]:\n",
    "        best_params[\"params\"] = params\n",
    "        best_params[\"rmse\"] = rmse\n",
    "    \n",
    "    return rmse\n",
    "\n",
    "\n",
    "def perform_hpo(hpo_algo):\n",
    "    start_time = time.perf_counter()\n",
    "\n",
    "    best_params = hpo_algo()\n",
    "\n",
    "    print(f\"Algorithm runtime: {time.perf_counter() - start_time:.2f} seconds\")\n",
    "    print(\"-\" * 100)\n",
    "    print(f\"Best parameters: {pprint.pformat(best_params[\"params\"])},\\nBest validation RMSE: {best_params['rmse']:.4f}\")\n",
    "    print(\"-\" * 100)\n",
    "\n",
    "    print(\"Retraining model with best params on train+val set before testing on test set...\")\n",
    "\n",
    "    model = RandomForestRegressor(**best_params[\"params\"])\n",
    "    model.fit(X_trainval, y_trainval)\n",
    "\n",
    "    rmse = sklearn.metrics.root_mean_squared_error(y_test, model.predict(X_test))\n",
    "\n",
    "    print(f\"Test RMSE: {rmse:.4f}\")\n",
    "    print(\"-\" * 100)\n",
    "\n",
    "    return rmse"
   ]
  },
  {
   "cell_type": "markdown",
   "id": "45b04ada",
   "metadata": {},
   "source": [
    "## Default hyperparameters"
   ]
  },
  {
   "cell_type": "code",
   "execution_count": 11,
   "id": "1c02bcda",
   "metadata": {},
   "outputs": [
    {
     "name": "stdout",
     "output_type": "stream",
     "text": [
      "Running the default Random Forest model...\n",
      "----------------------------------------------------------------------------------------------------\n",
      "Val RMSE: 39.5254\n",
      "Test RMSE: 13.6276\n",
      "Finished the default model\n"
     ]
    }
   ],
   "source": [
    "print(\"Running the default Random Forest model...\")\n",
    "print(\"-\" * 100)\n",
    "\n",
    "model = RandomForestRegressor(random_state=0)\n",
    "model.fit(X_train, y_train)\n",
    "\n",
    "print(f\"Val RMSE: {sklearn.metrics.root_mean_squared_error(y_val, model.predict(X_val)):.4f}\")\n",
    "\n",
    "model = RandomForestRegressor(random_state=0)\n",
    "model.fit(X_trainval, y_trainval)\n",
    "\n",
    "default_rmse = sklearn.metrics.root_mean_squared_error(y_test, model.predict(X_test))\n",
    "\n",
    "print(f\"Test RMSE: {default_rmse:.4f}\")\n",
    "print(\"Finished the default model\")"
   ]
  },
  {
   "cell_type": "markdown",
   "id": "35f1e386",
   "metadata": {},
   "source": [
    "## Grid Search"
   ]
  },
  {
   "cell_type": "code",
   "execution_count": 12,
   "id": "7513be58",
   "metadata": {},
   "outputs": [],
   "source": [
    "param_grid = {\n",
    "    \"n_estimators\": [50, 100, 150],\n",
    "    \"max_features\": [1.0, \"log2\", \"sqrt\"],\n",
    "    \"max_depth\": [4, 8, None],\n",
    "    \"max_leaf_nodes\": [4, 8, None],\n",
    "    \"max_samples\": [0.8, 1.0],\n",
    "}\n",
    "\n",
    "def grid_search() -> dict:\n",
    "    best_params = {\n",
    "        \"params\": None,\n",
    "        \"rmse\": float(\"inf\")\n",
    "    }\n",
    "\n",
    "    for params in product(*param_grid.values()):\n",
    "        params = dict(zip(param_grid.keys(), params))\n",
    "        \n",
    "        fit_model_and_update_best(params, best_params)\n",
    "\n",
    "    return best_params"
   ]
  },
  {
   "cell_type": "code",
   "execution_count": 13,
   "id": "333c1bf1",
   "metadata": {},
   "outputs": [
    {
     "name": "stdout",
     "output_type": "stream",
     "text": [
      "Performing Grid Search over 162 parameter combinations...\n",
      "----------------------------------------------------------------------------------------------------\n",
      "Algorithm runtime: 51.18 seconds\n",
      "----------------------------------------------------------------------------------------------------\n",
      "Best parameters: {'max_depth': 4,\n",
      " 'max_features': 1.0,\n",
      " 'max_leaf_nodes': 8,\n",
      " 'max_samples': 1.0,\n",
      " 'n_estimators': 50,\n",
      " 'random_state': 0},\n",
      "Best validation RMSE: 38.5452\n",
      "----------------------------------------------------------------------------------------------------\n",
      "Retraining model with best params on train+val set before testing on test set...\n",
      "Test RMSE: 12.0712\n",
      "----------------------------------------------------------------------------------------------------\n",
      "Finished Grid Search\n"
     ]
    }
   ],
   "source": [
    "print(\"Performing Grid Search over 162 parameter combinations...\")\n",
    "print(\"-\" * 100)\n",
    "\n",
    "gs_rmse = perform_hpo(grid_search)\n",
    "\n",
    "print(\"Finished Grid Search\")"
   ]
  },
  {
   "cell_type": "markdown",
   "id": "4aa9fb60",
   "metadata": {},
   "source": [
    "## Random Search"
   ]
  },
  {
   "cell_type": "code",
   "execution_count": 14,
   "id": "6f2bbd8e",
   "metadata": {},
   "outputs": [],
   "source": [
    "param_bounds = {\n",
    "    \"n_estimators\": (50, 150),\n",
    "    \"max_features\": (min(np.log2(data.shape[1]), np.sqrt(data.shape[1])) / data.shape[1], 1.0),\n",
    "    \"max_depth\": (\"cat\", [4, 8, None]),\n",
    "    \"max_leaf_nodes\": (\"cat\", [4, 8, None]),\n",
    "    \"max_samples\": (0.8, 1.0),\n",
    "}\n",
    "\n",
    "def build_params() -> dict:\n",
    "    params = dict()\n",
    "\n",
    "    for key, (lb, ub) in param_bounds.items():\n",
    "        if isinstance(lb, int):\n",
    "            params[key] = random.randint(lb, ub)\n",
    "        if isinstance(lb, float):\n",
    "            params[key] = random.uniform(lb, ub)\n",
    "        if isinstance(lb, str):\n",
    "            params[key] = random.choice(ub)\n",
    "    \n",
    "    return params\n",
    "        \n",
    "\n",
    "def random_search():    \n",
    "    best_params = {\n",
    "        \"params\": None,\n",
    "        \"rmse\": float(\"inf\")\n",
    "    }\n",
    "\n",
    "    count = 0\n",
    "\n",
    "    while count < 200:\n",
    "        params = build_params()\n",
    "\n",
    "        fit_model_and_update_best(params, best_params)\n",
    "        count += 1\n",
    "    \n",
    "    return best_params  "
   ]
  },
  {
   "cell_type": "code",
   "execution_count": 15,
   "id": "06c95c67",
   "metadata": {},
   "outputs": [
    {
     "name": "stdout",
     "output_type": "stream",
     "text": [
      "Performing Random Search for 200 trials...\n",
      "Algorithm runtime: 83.82 seconds\n",
      "----------------------------------------------------------------------------------------------------\n",
      "Best parameters: {'max_depth': None,\n",
      " 'max_features': np.float64(0.9951283648451199),\n",
      " 'max_leaf_nodes': None,\n",
      " 'max_samples': 0.9444576216960892,\n",
      " 'n_estimators': 50,\n",
      " 'random_state': 0},\n",
      "Best validation RMSE: 38.5800\n",
      "----------------------------------------------------------------------------------------------------\n",
      "Retraining model with best params on train+val set before testing on test set...\n",
      "Test RMSE: 13.5221\n",
      "----------------------------------------------------------------------------------------------------\n",
      "Finished Random Search\n"
     ]
    }
   ],
   "source": [
    "print(\"Performing Random Search for 200 trials...\")\n",
    "\n",
    "random.seed(1)\n",
    "rs_rmse = perform_hpo(random_search)\n",
    "\n",
    "print(\"Finished Random Search\")"
   ]
  },
  {
   "cell_type": "markdown",
   "id": "de02e271",
   "metadata": {},
   "source": [
    "## Bayesian Optimisation (Tree-Structured Parzen Estimator)"
   ]
  },
  {
   "cell_type": "code",
   "execution_count": 16,
   "id": "3da939f4",
   "metadata": {},
   "outputs": [],
   "source": [
    "def objective_tpe(trial: optuna.Trial, best_params: dict):\n",
    "    params = {\n",
    "        \"n_estimators\": trial.suggest_int(\"n_estimators\", 50, 150, log=True),\n",
    "        \"max_features\": trial.suggest_float(\"max_features\", min(np.log2(data.shape[1]), np.sqrt(data.shape[1])) / data.shape[1], 1.0),\n",
    "        \"max_depth\": trial.suggest_categorical(\"max_depth\", [4, 8, None]),\n",
    "        \"max_leaf_nodes\": trial.suggest_categorical(\"max_leaf_nodes\", [4, 8, None]),\n",
    "        \"max_samples\": trial.suggest_float(\"max_samples\", 0.8, 1.0),\n",
    "    }\n",
    "\n",
    "    return fit_model_and_update_best(params, best_params)\n",
    "\n",
    "def tpe_search() -> dict:\n",
    "    best_params = {\n",
    "        \"params\": None,\n",
    "        \"rmse\": float(\"inf\"),\n",
    "    }\n",
    "\n",
    "    study = optuna.create_study(sampler=optuna.samplers.TPESampler(seed=2))\n",
    "    study.optimize(lambda trial: objective_tpe(trial, best_params), n_trials=200)\n",
    "\n",
    "    return best_params"
   ]
  },
  {
   "cell_type": "code",
   "execution_count": 17,
   "id": "c4401a47",
   "metadata": {},
   "outputs": [
    {
     "name": "stdout",
     "output_type": "stream",
     "text": [
      "Performing TPE Search for 200 trials...\n",
      "Algorithm runtime: 120.97 seconds\n",
      "----------------------------------------------------------------------------------------------------\n",
      "Best parameters: {'max_depth': 8,\n",
      " 'max_features': 0.9996696100207416,\n",
      " 'max_leaf_nodes': 8,\n",
      " 'max_samples': 0.9205974693806507,\n",
      " 'n_estimators': 94,\n",
      " 'random_state': 0},\n",
      "Best validation RMSE: 38.6915\n",
      "----------------------------------------------------------------------------------------------------\n",
      "Retraining model with best params on train+val set before testing on test set...\n",
      "Test RMSE: 13.2710\n",
      "----------------------------------------------------------------------------------------------------\n",
      "Finished TPE Search\n"
     ]
    }
   ],
   "source": [
    "print(\"Performing TPE Search for 200 trials...\")\n",
    "\n",
    "tpe_rmse = perform_hpo(tpe_search)\n",
    "\n",
    "print(\"Finished TPE Search\")"
   ]
  },
  {
   "cell_type": "markdown",
   "id": "0aafc691",
   "metadata": {},
   "source": [
    "## Hyperband"
   ]
  },
  {
   "cell_type": "code",
   "execution_count": 18,
   "id": "2b59e785",
   "metadata": {},
   "outputs": [],
   "source": [
    "param_grid = {\n",
    "    \"max_features\": [1.0, \"log2\", \"sqrt\"],\n",
    "    \"max_depth\": [4, 8, None],\n",
    "    \"max_leaf_nodes\": [4, 8, None],\n",
    "    \"max_samples\": [0.8, 1.0],\n",
    "}\n",
    "\n",
    "def objective_hb(trial: optuna.Trial, best_params: dict, min_estimators, max_estimators, step):\n",
    "    params = {\n",
    "        \"max_features\": trial.suggest_categorical(\"max_features\", [1.0, \"log2\", \"sqrt\"]),\n",
    "        \"max_depth\": trial.suggest_categorical(\"max_depth\", [4, 8, None]),\n",
    "        \"max_leaf_nodes\": trial.suggest_categorical(\"max_leaf_nodes\", [4, 8, None]),\n",
    "        \"max_samples\": trial.suggest_categorical(\"max_samples\", [0.8, 1.0]),\n",
    "    }\n",
    "\n",
    "    for n_estimators in range(min_estimators, max_estimators + 1, step):\n",
    "        params.update({\"n_estimators\": n_estimators})\n",
    "        rmse = fit_model_and_update_best(params, best_params)\n",
    "\n",
    "        trial.report(rmse, n_estimators)\n",
    "\n",
    "        if trial.should_prune():\n",
    "            raise optuna.TrialPruned()\n",
    "\n",
    "    return rmse\n",
    "\n",
    "def hb_grid_search() -> dict:\n",
    "    best_params = {\n",
    "        \"params\": None,\n",
    "        \"rmse\": float(\"inf\"),\n",
    "    }\n",
    "    min_estimators, max_estimators, step = 50, 150, 25\n",
    "\n",
    "    study = optuna.create_study(\n",
    "        sampler=optuna.samplers.GridSampler(search_space=param_grid),\n",
    "        pruner=optuna.pruners.HyperbandPruner(\n",
    "            min_resource=min_estimators,\n",
    "            max_resource=max_estimators,\n",
    "            reduction_factor=6,\n",
    "        ),\n",
    "    )\n",
    "    study.optimize(\n",
    "        lambda trial: objective_hb(trial, best_params, min_estimators, max_estimators, step),\n",
    "        n_trials=200,\n",
    "    )\n",
    "\n",
    "    return best_params"
   ]
  },
  {
   "cell_type": "code",
   "execution_count": 19,
   "id": "c9beab49",
   "metadata": {},
   "outputs": [
    {
     "name": "stdout",
     "output_type": "stream",
     "text": [
      "Performing Hyperband Grid Search for 200 trials...\n",
      "Algorithm runtime: 36.95 seconds\n",
      "----------------------------------------------------------------------------------------------------\n",
      "Best parameters: {'max_depth': 4,\n",
      " 'max_features': 1.0,\n",
      " 'max_leaf_nodes': 8,\n",
      " 'max_samples': 1.0,\n",
      " 'n_estimators': 150,\n",
      " 'random_state': 0},\n",
      "Best validation RMSE: 38.5452\n",
      "----------------------------------------------------------------------------------------------------\n",
      "Retraining model with best params on train+val set before testing on test set...\n",
      "Test RMSE: 12.4889\n",
      "----------------------------------------------------------------------------------------------------\n",
      "Finished Hyperband Grid Search Search\n"
     ]
    }
   ],
   "source": [
    "print(\"Performing Hyperband Grid Search for 200 trials...\")\n",
    "\n",
    "hb_rmse = perform_hpo(hb_grid_search)\n",
    "\n",
    "print(\"Finished Hyperband Grid Search Search\")"
   ]
  },
  {
   "cell_type": "markdown",
   "id": "acc2ad37",
   "metadata": {},
   "source": [
    "## Simulated Annealing"
   ]
  },
  {
   "cell_type": "code",
   "execution_count": 20,
   "id": "90012b39",
   "metadata": {},
   "outputs": [],
   "source": [
    "class SimulatedAnnealingSampler(optuna.samplers.BaseSampler):\n",
    "    def __init__(self, temperature=100, cooldown_factor=0.9, neighbor_range_factor=0.1, seed=None):\n",
    "        self._rng = np.random.RandomState(seed)\n",
    "        self._independent_sampler = optuna.samplers.RandomSampler(seed=seed)\n",
    "        self._temperature = temperature\n",
    "        self.cooldown_factor = cooldown_factor\n",
    "        self.neighbor_range_factor = neighbor_range_factor\n",
    "        self._current_trial = None\n",
    "\n",
    "    def infer_relative_search_space(self, study, trial):\n",
    "        return optuna.search_space.intersection_search_space(study.trials)\n",
    "\n",
    "    def sample_relative(self, study, trial, search_space):\n",
    "        if search_space == {}:\n",
    "            return {}\n",
    "\n",
    "        prev_trial = self._get_last_complete_trial(study)\n",
    "\n",
    "        if self._rng.uniform(0, 1) <= self._transition_probability(study, prev_trial):\n",
    "            self._current_trial = prev_trial\n",
    "\n",
    "        params = self._sample_neighbor_params(search_space)\n",
    "\n",
    "        self._temperature *= self.cooldown_factor\n",
    "\n",
    "        return params\n",
    "\n",
    "    def _sample_neighbor_params(self, search_space):\n",
    "        params = {}\n",
    "        for param_name, param_distribution in search_space.items():\n",
    "            if isinstance(param_distribution, optuna.distributions.FloatDistribution):\n",
    "                assert param_distribution.step is None, \"step is not supported\"\n",
    "                assert not param_distribution.log, \"log is not supported\"\n",
    "\n",
    "                current_value = self._current_trial.params[param_name]\n",
    "                width = (\n",
    "                    param_distribution.high - param_distribution.low\n",
    "                ) * self.neighbor_range_factor\n",
    "                neighbor_low = max(current_value - width, param_distribution.low)\n",
    "                neighbor_high = min(current_value + width, param_distribution.high)\n",
    "                params[param_name] = self._rng.uniform(neighbor_low, neighbor_high)\n",
    "            elif isinstance(param_distribution, optuna.distributions.IntDistribution):\n",
    "                assert not param_distribution.log, \"log is not supported\"\n",
    "                assert param_distribution.step == 1, \"only default step == 1 is supported\"\n",
    "\n",
    "                current_value = self._current_trial.params[param_name]\n",
    "                width = int((param_distribution.high - param_distribution.low) * self.neighbor_range_factor)\n",
    "                neighbor_low = max(current_value - width, param_distribution.low)\n",
    "                neighbor_high = min(current_value + width, param_distribution.high)\n",
    "                params[param_name] = self._rng.randint(neighbor_low, neighbor_high+1)\n",
    "            elif isinstance(param_distribution, optuna.distributions.CategoricalDistribution):\n",
    "                # This assumes that we have \"ordered categorical\".\n",
    "                current_value = self._current_trial.params[param_name]\n",
    "                choices = param_distribution.choices\n",
    "                # Not the most efficient implementation, but since we have at most 5 categoricals, it will suffice\n",
    "                curr_idx = param_distribution.choices.index(current_value)\n",
    "                width = max(1, int(len(choices) * self.neighbor_range_factor))\n",
    "                neighbor_low = max(curr_idx - width, 0)\n",
    "                neighbor_high = min(curr_idx + width, len(choices) - 1)\n",
    "                # Another problem: always has a random choice between 3. Does not settle for one of them\n",
    "                chosen_idx = self._rng.randint(neighbor_low, neighbor_high+1)\n",
    "                params[param_name] = choices[chosen_idx]\n",
    "            else:\n",
    "                raise NotImplementedError(\n",
    "                    \"Unsupported distribution {}.\".format(param_distribution)\n",
    "                )\n",
    "\n",
    "        return params\n",
    "\n",
    "    def _transition_probability(self, study, prev_trial):\n",
    "        if self._current_trial is None:\n",
    "            return 1.0\n",
    "\n",
    "        prev_value = prev_trial.value\n",
    "        current_value = self._current_trial.value\n",
    "\n",
    "        if study.direction == optuna.study.StudyDirection.MINIMIZE and prev_value <= current_value:\n",
    "            return 1.0\n",
    "        elif study.direction == optuna.study.StudyDirection.MAXIMIZE and prev_value >= current_value:\n",
    "            return 1.0\n",
    "\n",
    "        return np.exp(-abs(current_value - prev_value) / self._temperature)\n",
    "\n",
    "    @staticmethod\n",
    "    def _get_last_complete_trial(study):\n",
    "        complete_trials = study.get_trials(deepcopy=False, states=[optuna.trial.TrialState.COMPLETE])\n",
    "        return complete_trials[-1]\n",
    "\n",
    "    def sample_independent(self, study, trial, param_name, param_distribution):\n",
    "        return self._independent_sampler.sample_independent(\n",
    "            study, trial, param_name, param_distribution\n",
    "        )\n"
   ]
  },
  {
   "cell_type": "code",
   "execution_count": 21,
   "id": "f60d1bec",
   "metadata": {},
   "outputs": [],
   "source": [
    "def objective_sa(trial: optuna.Trial, best_params: dict):\n",
    "    params = {\n",
    "        \"n_estimators\": trial.suggest_int(\"n_estimators\", 50, 150),\n",
    "        \"max_features\": trial.suggest_float(\"max_features\", min(np.log2(data.shape[1]), np.sqrt(data.shape[1])) / data.shape[1], 1.0),\n",
    "        \"max_depth\": trial.suggest_categorical(\"max_depth\", [4, 8, None]),\n",
    "        \"max_leaf_nodes\": trial.suggest_categorical(\"max_leaf_nodes\", [4, 8, None]),\n",
    "        \"max_samples\": trial.suggest_float(\"max_samples\", 0.8, 1.0),\n",
    "    }\n",
    "\n",
    "    return fit_model_and_update_best(params, best_params)\n",
    "\n",
    "def sa_search() -> dict:\n",
    "    best_params = {\n",
    "        \"params\": None,\n",
    "        \"rmse\": float(\"inf\"),\n",
    "    }\n",
    "\n",
    "    study = optuna.create_study(sampler=SimulatedAnnealingSampler(seed=4))\n",
    "    study.optimize(lambda trial: objective_sa(trial, best_params), n_trials=200)\n",
    "\n",
    "    return best_params"
   ]
  },
  {
   "cell_type": "code",
   "execution_count": 22,
   "id": "b2a37fc3",
   "metadata": {},
   "outputs": [
    {
     "name": "stdout",
     "output_type": "stream",
     "text": [
      "Performing Simulated Annealing for 200 trials...\n",
      "Algorithm runtime: 133.35 seconds\n",
      "----------------------------------------------------------------------------------------------------\n",
      "Best parameters: {'max_depth': None,\n",
      " 'max_features': 0.9881299065384862,\n",
      " 'max_leaf_nodes': 8,\n",
      " 'max_samples': 0.9418035256319053,\n",
      " 'n_estimators': 90,\n",
      " 'random_state': 0},\n",
      "Best validation RMSE: 38.7231\n",
      "----------------------------------------------------------------------------------------------------\n",
      "Retraining model with best params on train+val set before testing on test set...\n",
      "Test RMSE: 13.8030\n",
      "----------------------------------------------------------------------------------------------------\n",
      "Finished Simulated Annealing Search\n"
     ]
    }
   ],
   "source": [
    "print(\"Performing Simulated Annealing for 200 trials...\")\n",
    "\n",
    "sa_rmse = perform_hpo(sa_search)\n",
    "\n",
    "print(\"Finished Simulated Annealing Search\")"
   ]
  },
  {
   "cell_type": "markdown",
   "id": "e8d3fb4d",
   "metadata": {},
   "source": [
    "## Genetic Algorithm"
   ]
  },
  {
   "cell_type": "code",
   "execution_count": 23,
   "id": "adf888d9",
   "metadata": {},
   "outputs": [],
   "source": [
    "def objective_ga(trial: optuna.Trial, best_params: dict):\n",
    "    params = {\n",
    "        \"n_estimators\": trial.suggest_int(\"n_estimators\", 50, 150),\n",
    "        \"max_features\": trial.suggest_float(\"max_features\", min(np.log2(data.shape[1]), np.sqrt(data.shape[1])) / data.shape[1], 1.0),\n",
    "        \"max_depth\": trial.suggest_categorical(\"max_depth\", [4, 8, None]),\n",
    "        \"max_leaf_nodes\": trial.suggest_categorical(\"max_leaf_nodes\", [4, 8, None]),\n",
    "        \"max_samples\": trial.suggest_float(\"max_samples\", 0.8, 1.0),\n",
    "    }\n",
    "\n",
    "    return fit_model_and_update_best(params, best_params)\n",
    "\n",
    "def ga_search() -> dict:\n",
    "    best_params = {\n",
    "        \"params\": None,\n",
    "        \"rmse\": float(\"inf\"),\n",
    "    }\n",
    "\n",
    "    study = optuna.create_study(sampler=optuna.samplers.NSGAIIISampler(seed=4))\n",
    "    study.optimize(lambda trial: objective_ga(trial, best_params), n_trials=200)\n",
    "\n",
    "    return best_params"
   ]
  },
  {
   "cell_type": "code",
   "execution_count": 24,
   "id": "c768f0a7",
   "metadata": {},
   "outputs": [
    {
     "name": "stdout",
     "output_type": "stream",
     "text": [
      "Performing Genetic Algorithm for 200 trials...\n"
     ]
    },
    {
     "name": "stderr",
     "output_type": "stream",
     "text": [
      "C:\\Users\\armin\\AppData\\Local\\Temp\\ipykernel_29180\\282285672.py:18: ExperimentalWarning: NSGAIIISampler is experimental (supported from v3.2.0). The interface can change in the future.\n",
      "  study = optuna.create_study(sampler=optuna.samplers.NSGAIIISampler(seed=4))\n"
     ]
    },
    {
     "name": "stdout",
     "output_type": "stream",
     "text": [
      "Algorithm runtime: 107.71 seconds\n",
      "----------------------------------------------------------------------------------------------------\n",
      "Best parameters: {'max_depth': 8,\n",
      " 'max_features': 0.95914791112792,\n",
      " 'max_leaf_nodes': 8,\n",
      " 'max_samples': 0.9201485442755539,\n",
      " 'n_estimators': 54,\n",
      " 'random_state': 0},\n",
      "Best validation RMSE: 38.6568\n",
      "----------------------------------------------------------------------------------------------------\n",
      "Retraining model with best params on train+val set before testing on test set...\n",
      "Test RMSE: 13.2240\n",
      "----------------------------------------------------------------------------------------------------\n",
      "Finished Genetic Algorithm\n"
     ]
    }
   ],
   "source": [
    "print(\"Performing Genetic Algorithm for 200 trials...\")\n",
    "\n",
    "ga_rmse = perform_hpo(ga_search)\n",
    "\n",
    "print(\"Finished Genetic Algorithm\")"
   ]
  },
  {
   "cell_type": "markdown",
   "id": "d9299188",
   "metadata": {},
   "source": [
    "# Summary"
   ]
  },
  {
   "cell_type": "code",
   "execution_count": 25,
   "id": "7f431064",
   "metadata": {},
   "outputs": [
    {
     "data": {
      "text/markdown": [
       "\n",
       "### Final RMSE Values\n",
       "----------------------------------------------------------------------------------------------------  \n",
       "| Algorithm                             | Test RMSE                |\n",
       "|-------------------------------------|-------------------------:|\n",
       "| **Default**                         | 13.628  | \n",
       "| **Grid Search**                     | 12.071      |\n",
       "| **Random Search**                   | 13.522       |\n",
       "| **Tree-Structured Parzen Estimator**| 13.271      |\n",
       "| **Hyperband Grid Search**           | 12.489       |\n",
       "| **Simulated Annealing**             | 13.803      |\n",
       "| **Genetic Algorithm**               | 13.224       |\n",
       "----------------------------------------------------------------------------------------------------\n",
       "**Total HPO Runtime:** `542.62` seconds\n"
      ],
      "text/plain": [
       "<IPython.core.display.Markdown object>"
      ]
     },
     "metadata": {},
     "output_type": "display_data"
    }
   ],
   "source": [
    "display(Markdown(f\"\"\"\n",
    "### Final RMSE Values\n",
    "{'-'*100}  \n",
    "| Algorithm                             | Test RMSE                |\n",
    "|-------------------------------------|-------------------------:|\n",
    "| **Default**                         | {default_rmse:.3f}  | \n",
    "| **Grid Search**                     | {gs_rmse:.3f}      |\n",
    "| **Random Search**                   | {rs_rmse:.3f}       |\n",
    "| **Tree-Structured Parzen Estimator**| {tpe_rmse:.3f}      |\n",
    "| **Hyperband Grid Search**           | {hb_rmse:.3f}       |\n",
    "| **Simulated Annealing**             | {sa_rmse:.3f}      |\n",
    "| **Genetic Algorithm**               | {ga_rmse:.3f}       |\n",
    "{'-'*100}\n",
    "**Total HPO Runtime:** `{time.perf_counter() - hpo_start_time:.2f}` seconds\n",
    "\"\"\"))"
   ]
  },
  {
   "cell_type": "markdown",
   "id": "a136fa2f",
   "metadata": {},
   "source": [
    "# Exercises:\n",
    "\n",
    "1. Compare Grid Search and Hyperband Grid Search. What is the key thing you observe in the final parameter selection and final MSE? What determined the difference in RMSE between the two HPO algorithms?\n",
    "\n",
    "2. Observe that Simulated Annealing performed worse than Default on the test set. Does that mean that it is better to use a Defaut model and skip Simulated Annealing? Hint: consider the RMSE values on validation set.\n",
    "\n",
    "3. What would you use to ensure more robust results?\n",
    "\n",
    "4. Try this experiment with a neural network of your choice."
   ]
  }
 ],
 "metadata": {
  "kernelspec": {
   "display_name": ".venv",
   "language": "python",
   "name": "python3"
  },
  "language_info": {
   "codemirror_mode": {
    "name": "ipython",
    "version": 3
   },
   "file_extension": ".py",
   "mimetype": "text/x-python",
   "name": "python",
   "nbconvert_exporter": "python",
   "pygments_lexer": "ipython3",
   "version": "3.13.7"
  }
 },
 "nbformat": 4,
 "nbformat_minor": 5
}
